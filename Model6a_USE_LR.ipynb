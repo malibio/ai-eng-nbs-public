{
  "cells": [
    {
      "cell_type": "markdown",
      "id": "224a4842",
      "metadata": {
        "id": "224a4842"
      },
      "source": [
        "# Model 6a: Embedding-Based Model (Universal Sentence Encoder + Logistic Regression)\n",
        "\n",
        "## 🎯 Objective:\n",
        "Use a pretrained embedding model (Universal Sentence Encoder) to capture deep semantic meaning of headlines, and apply a simple classifier (e.g., Logistic Regression) on top.\n",
        "\n",
        "## 🔧 Steps:\n",
        "1. Import Libraries & Load Data\n",
        "    - Load data.csv as usual\n",
        "    - Prepare X_train, X_test, y_train, y_test\n",
        "\n",
        "2. Text Embedding\n",
        "    - Use Universal Sentence Encoder (USE) via tensorflow_hub\n",
        "    - Encode each headline into a 512-dimensional dense vector\n",
        "\n",
        "3. Model Training\n",
        "    - Use LogisticRegression on the embedded vectors\n",
        "\n",
        "5. Evaluation:\n",
        "    - Accuracy, classification report\n",
        "\n",
        "6. Confusion matrix\n",
        "\n",
        "##  ✅ Purpose:\n",
        "Leverage semantic-rich embeddings instead of hand-crafted features (TF-IDF). This gives a dense **representation of meaning**, and allows comparison with classical models from Model 0 and 2."
      ]
    },
    {
      "cell_type": "markdown",
      "id": "abf31b2c",
      "metadata": {
        "id": "abf31b2c"
      },
      "source": [
        "## 1. Import Librairies and load data"
      ]
    },
    {
      "cell_type": "code",
      "execution_count": 15,
      "id": "639417f5",
      "metadata": {
        "id": "639417f5"
      },
      "outputs": [],
      "source": [
        "import pandas as pd\n",
        "import numpy as np\n",
        "import tensorflow_hub as hub\n",
        "import tensorflow as tf\n",
        "\n",
        "from sklearn.model_selection import train_test_split\n",
        "from sklearn.linear_model import LogisticRegression\n",
        "from sklearn.metrics import classification_report, accuracy_score\n",
        "from sklearn.metrics import ConfusionMatrixDisplay\n",
        "import matplotlib.pyplot as plt\n",
        "\n",
        "from model_eval import save_model_results\n",
        "import time\n"
      ]
    },
    {
      "cell_type": "code",
      "execution_count": 2,
      "id": "cd4dd074",
      "metadata": {
        "id": "cd4dd074",
        "outputId": "cdbbc23e-3b2c-4d1c-e36a-69d6b0325ca3",
        "colab": {
          "base_uri": "https://localhost:8080/",
          "height": 204
        }
      },
      "outputs": [
        {
          "output_type": "execute_result",
          "data": {
            "text/plain": [
              "   label                                              title\n",
              "0      0  donald trump sends out embarrassing new year‚s...\n",
              "1      0  drunk bragging trump staffer started russian c...\n",
              "2      0  sheriff david clarke becomes an internet joke ...\n",
              "3      0  trump is so obsessed he even has obama‚s name ...\n",
              "4      0  pope francis just called out donald trump duri..."
            ],
            "text/html": [
              "\n",
              "  <div id=\"df-edd69657-1657-426a-b4fd-f8f70851cf5a\" class=\"colab-df-container\">\n",
              "    <div>\n",
              "<style scoped>\n",
              "    .dataframe tbody tr th:only-of-type {\n",
              "        vertical-align: middle;\n",
              "    }\n",
              "\n",
              "    .dataframe tbody tr th {\n",
              "        vertical-align: top;\n",
              "    }\n",
              "\n",
              "    .dataframe thead th {\n",
              "        text-align: right;\n",
              "    }\n",
              "</style>\n",
              "<table border=\"1\" class=\"dataframe\">\n",
              "  <thead>\n",
              "    <tr style=\"text-align: right;\">\n",
              "      <th></th>\n",
              "      <th>label</th>\n",
              "      <th>title</th>\n",
              "    </tr>\n",
              "  </thead>\n",
              "  <tbody>\n",
              "    <tr>\n",
              "      <th>0</th>\n",
              "      <td>0</td>\n",
              "      <td>donald trump sends out embarrassing new year‚s...</td>\n",
              "    </tr>\n",
              "    <tr>\n",
              "      <th>1</th>\n",
              "      <td>0</td>\n",
              "      <td>drunk bragging trump staffer started russian c...</td>\n",
              "    </tr>\n",
              "    <tr>\n",
              "      <th>2</th>\n",
              "      <td>0</td>\n",
              "      <td>sheriff david clarke becomes an internet joke ...</td>\n",
              "    </tr>\n",
              "    <tr>\n",
              "      <th>3</th>\n",
              "      <td>0</td>\n",
              "      <td>trump is so obsessed he even has obama‚s name ...</td>\n",
              "    </tr>\n",
              "    <tr>\n",
              "      <th>4</th>\n",
              "      <td>0</td>\n",
              "      <td>pope francis just called out donald trump duri...</td>\n",
              "    </tr>\n",
              "  </tbody>\n",
              "</table>\n",
              "</div>\n",
              "    <div class=\"colab-df-buttons\">\n",
              "\n",
              "  <div class=\"colab-df-container\">\n",
              "    <button class=\"colab-df-convert\" onclick=\"convertToInteractive('df-edd69657-1657-426a-b4fd-f8f70851cf5a')\"\n",
              "            title=\"Convert this dataframe to an interactive table.\"\n",
              "            style=\"display:none;\">\n",
              "\n",
              "  <svg xmlns=\"http://www.w3.org/2000/svg\" height=\"24px\" viewBox=\"0 -960 960 960\">\n",
              "    <path d=\"M120-120v-720h720v720H120Zm60-500h600v-160H180v160Zm220 220h160v-160H400v160Zm0 220h160v-160H400v160ZM180-400h160v-160H180v160Zm440 0h160v-160H620v160ZM180-180h160v-160H180v160Zm440 0h160v-160H620v160Z\"/>\n",
              "  </svg>\n",
              "    </button>\n",
              "\n",
              "  <style>\n",
              "    .colab-df-container {\n",
              "      display:flex;\n",
              "      gap: 12px;\n",
              "    }\n",
              "\n",
              "    .colab-df-convert {\n",
              "      background-color: #E8F0FE;\n",
              "      border: none;\n",
              "      border-radius: 50%;\n",
              "      cursor: pointer;\n",
              "      display: none;\n",
              "      fill: #1967D2;\n",
              "      height: 32px;\n",
              "      padding: 0 0 0 0;\n",
              "      width: 32px;\n",
              "    }\n",
              "\n",
              "    .colab-df-convert:hover {\n",
              "      background-color: #E2EBFA;\n",
              "      box-shadow: 0px 1px 2px rgba(60, 64, 67, 0.3), 0px 1px 3px 1px rgba(60, 64, 67, 0.15);\n",
              "      fill: #174EA6;\n",
              "    }\n",
              "\n",
              "    .colab-df-buttons div {\n",
              "      margin-bottom: 4px;\n",
              "    }\n",
              "\n",
              "    [theme=dark] .colab-df-convert {\n",
              "      background-color: #3B4455;\n",
              "      fill: #D2E3FC;\n",
              "    }\n",
              "\n",
              "    [theme=dark] .colab-df-convert:hover {\n",
              "      background-color: #434B5C;\n",
              "      box-shadow: 0px 1px 3px 1px rgba(0, 0, 0, 0.15);\n",
              "      filter: drop-shadow(0px 1px 2px rgba(0, 0, 0, 0.3));\n",
              "      fill: #FFFFFF;\n",
              "    }\n",
              "  </style>\n",
              "\n",
              "    <script>\n",
              "      const buttonEl =\n",
              "        document.querySelector('#df-edd69657-1657-426a-b4fd-f8f70851cf5a button.colab-df-convert');\n",
              "      buttonEl.style.display =\n",
              "        google.colab.kernel.accessAllowed ? 'block' : 'none';\n",
              "\n",
              "      async function convertToInteractive(key) {\n",
              "        const element = document.querySelector('#df-edd69657-1657-426a-b4fd-f8f70851cf5a');\n",
              "        const dataTable =\n",
              "          await google.colab.kernel.invokeFunction('convertToInteractive',\n",
              "                                                    [key], {});\n",
              "        if (!dataTable) return;\n",
              "\n",
              "        const docLinkHtml = 'Like what you see? Visit the ' +\n",
              "          '<a target=\"_blank\" href=https://colab.research.google.com/notebooks/data_table.ipynb>data table notebook</a>'\n",
              "          + ' to learn more about interactive tables.';\n",
              "        element.innerHTML = '';\n",
              "        dataTable['output_type'] = 'display_data';\n",
              "        await google.colab.output.renderOutput(dataTable, element);\n",
              "        const docLink = document.createElement('div');\n",
              "        docLink.innerHTML = docLinkHtml;\n",
              "        element.appendChild(docLink);\n",
              "      }\n",
              "    </script>\n",
              "  </div>\n",
              "\n",
              "\n",
              "    <div id=\"df-9815dd60-ab7c-4251-a8f0-795073a6f0b5\">\n",
              "      <button class=\"colab-df-quickchart\" onclick=\"quickchart('df-9815dd60-ab7c-4251-a8f0-795073a6f0b5')\"\n",
              "                title=\"Suggest charts\"\n",
              "                style=\"display:none;\">\n",
              "\n",
              "<svg xmlns=\"http://www.w3.org/2000/svg\" height=\"24px\"viewBox=\"0 0 24 24\"\n",
              "     width=\"24px\">\n",
              "    <g>\n",
              "        <path d=\"M19 3H5c-1.1 0-2 .9-2 2v14c0 1.1.9 2 2 2h14c1.1 0 2-.9 2-2V5c0-1.1-.9-2-2-2zM9 17H7v-7h2v7zm4 0h-2V7h2v10zm4 0h-2v-4h2v4z\"/>\n",
              "    </g>\n",
              "</svg>\n",
              "      </button>\n",
              "\n",
              "<style>\n",
              "  .colab-df-quickchart {\n",
              "      --bg-color: #E8F0FE;\n",
              "      --fill-color: #1967D2;\n",
              "      --hover-bg-color: #E2EBFA;\n",
              "      --hover-fill-color: #174EA6;\n",
              "      --disabled-fill-color: #AAA;\n",
              "      --disabled-bg-color: #DDD;\n",
              "  }\n",
              "\n",
              "  [theme=dark] .colab-df-quickchart {\n",
              "      --bg-color: #3B4455;\n",
              "      --fill-color: #D2E3FC;\n",
              "      --hover-bg-color: #434B5C;\n",
              "      --hover-fill-color: #FFFFFF;\n",
              "      --disabled-bg-color: #3B4455;\n",
              "      --disabled-fill-color: #666;\n",
              "  }\n",
              "\n",
              "  .colab-df-quickchart {\n",
              "    background-color: var(--bg-color);\n",
              "    border: none;\n",
              "    border-radius: 50%;\n",
              "    cursor: pointer;\n",
              "    display: none;\n",
              "    fill: var(--fill-color);\n",
              "    height: 32px;\n",
              "    padding: 0;\n",
              "    width: 32px;\n",
              "  }\n",
              "\n",
              "  .colab-df-quickchart:hover {\n",
              "    background-color: var(--hover-bg-color);\n",
              "    box-shadow: 0 1px 2px rgba(60, 64, 67, 0.3), 0 1px 3px 1px rgba(60, 64, 67, 0.15);\n",
              "    fill: var(--button-hover-fill-color);\n",
              "  }\n",
              "\n",
              "  .colab-df-quickchart-complete:disabled,\n",
              "  .colab-df-quickchart-complete:disabled:hover {\n",
              "    background-color: var(--disabled-bg-color);\n",
              "    fill: var(--disabled-fill-color);\n",
              "    box-shadow: none;\n",
              "  }\n",
              "\n",
              "  .colab-df-spinner {\n",
              "    border: 2px solid var(--fill-color);\n",
              "    border-color: transparent;\n",
              "    border-bottom-color: var(--fill-color);\n",
              "    animation:\n",
              "      spin 1s steps(1) infinite;\n",
              "  }\n",
              "\n",
              "  @keyframes spin {\n",
              "    0% {\n",
              "      border-color: transparent;\n",
              "      border-bottom-color: var(--fill-color);\n",
              "      border-left-color: var(--fill-color);\n",
              "    }\n",
              "    20% {\n",
              "      border-color: transparent;\n",
              "      border-left-color: var(--fill-color);\n",
              "      border-top-color: var(--fill-color);\n",
              "    }\n",
              "    30% {\n",
              "      border-color: transparent;\n",
              "      border-left-color: var(--fill-color);\n",
              "      border-top-color: var(--fill-color);\n",
              "      border-right-color: var(--fill-color);\n",
              "    }\n",
              "    40% {\n",
              "      border-color: transparent;\n",
              "      border-right-color: var(--fill-color);\n",
              "      border-top-color: var(--fill-color);\n",
              "    }\n",
              "    60% {\n",
              "      border-color: transparent;\n",
              "      border-right-color: var(--fill-color);\n",
              "    }\n",
              "    80% {\n",
              "      border-color: transparent;\n",
              "      border-right-color: var(--fill-color);\n",
              "      border-bottom-color: var(--fill-color);\n",
              "    }\n",
              "    90% {\n",
              "      border-color: transparent;\n",
              "      border-bottom-color: var(--fill-color);\n",
              "    }\n",
              "  }\n",
              "</style>\n",
              "\n",
              "      <script>\n",
              "        async function quickchart(key) {\n",
              "          const quickchartButtonEl =\n",
              "            document.querySelector('#' + key + ' button');\n",
              "          quickchartButtonEl.disabled = true;  // To prevent multiple clicks.\n",
              "          quickchartButtonEl.classList.add('colab-df-spinner');\n",
              "          try {\n",
              "            const charts = await google.colab.kernel.invokeFunction(\n",
              "                'suggestCharts', [key], {});\n",
              "          } catch (error) {\n",
              "            console.error('Error during call to suggestCharts:', error);\n",
              "          }\n",
              "          quickchartButtonEl.classList.remove('colab-df-spinner');\n",
              "          quickchartButtonEl.classList.add('colab-df-quickchart-complete');\n",
              "        }\n",
              "        (() => {\n",
              "          let quickchartButtonEl =\n",
              "            document.querySelector('#df-9815dd60-ab7c-4251-a8f0-795073a6f0b5 button');\n",
              "          quickchartButtonEl.style.display =\n",
              "            google.colab.kernel.accessAllowed ? 'block' : 'none';\n",
              "        })();\n",
              "      </script>\n",
              "    </div>\n",
              "\n",
              "    </div>\n",
              "  </div>\n"
            ],
            "application/vnd.google.colaboratory.intrinsic+json": {
              "type": "dataframe",
              "variable_name": "df",
              "summary": "{\n  \"name\": \"df\",\n  \"rows\": 34152,\n  \"fields\": [\n    {\n      \"column\": \"label\",\n      \"properties\": {\n        \"dtype\": \"number\",\n        \"std\": 0,\n        \"min\": 0,\n        \"max\": 1,\n        \"num_unique_values\": 2,\n        \"samples\": [\n          1,\n          0\n        ],\n        \"semantic_type\": \"\",\n        \"description\": \"\"\n      }\n    },\n    {\n      \"column\": \"title\",\n      \"properties\": {\n        \"dtype\": \"string\",\n        \"num_unique_values\": 32206,\n        \"samples\": [\n          \"swiss to return $321 million in stolen funds to nigeria\",\n          \"it\\u201as official! the fbi confirms cia\\u201as findings on russian hackings\"\n        ],\n        \"semantic_type\": \"\",\n        \"description\": \"\"\n      }\n    }\n  ]\n}"
            }
          },
          "metadata": {},
          "execution_count": 2
        }
      ],
      "source": [
        "df = pd.read_csv(\"data/training_data_lowercase.csv\", sep=\"\\t\", header=None, names=[\"label\", \"title\"])\n",
        "# data.reset_index(drop=True, inplace=True)  # optional\n",
        "\n",
        "# Split the dataset\n",
        "X_train, X_test, y_train, y_test = train_test_split(df[\"title\"], df[\"label\"], test_size=0.2, random_state=42)\n",
        "\n",
        "df.head()"
      ]
    },
    {
      "cell_type": "markdown",
      "id": "0281440c",
      "metadata": {
        "id": "0281440c"
      },
      "source": [
        "## 2. Text embbeding\n",
        "\n",
        "### Load Universal Sentence Encoder (USE)"
      ]
    },
    {
      "cell_type": "code",
      "execution_count": 3,
      "id": "cc5725d4",
      "metadata": {
        "id": "cc5725d4",
        "outputId": "3df4c71f-3a50-4211-a4fb-236ad8f8fdea",
        "colab": {
          "base_uri": "https://localhost:8080/"
        }
      },
      "outputs": [
        {
          "output_type": "stream",
          "name": "stdout",
          "text": [
            "USE model loaded.\n"
          ]
        }
      ],
      "source": [
        "# Load pretrained USE model (takes a moment the first time)\n",
        "embed = hub.load(\"https://tfhub.dev/google/universal-sentence-encoder/4\")\n",
        "print(\"USE model loaded.\")"
      ]
    },
    {
      "cell_type": "markdown",
      "id": "16cd92fc",
      "metadata": {
        "id": "16cd92fc"
      },
      "source": [
        "### Embed the Text:"
      ]
    },
    {
      "cell_type": "code",
      "execution_count": 4,
      "id": "c8dbb625",
      "metadata": {
        "id": "c8dbb625"
      },
      "outputs": [],
      "source": [
        "# Convert Series to list (required for USE)\n",
        "X_train_emb = embed(X_train.tolist())\n",
        "X_test_emb = embed(X_test.tolist())"
      ]
    },
    {
      "cell_type": "markdown",
      "id": "c9a1201e",
      "metadata": {
        "id": "c9a1201e"
      },
      "source": [
        "## 3. Train Logistic Regression:"
      ]
    },
    {
      "cell_type": "code",
      "execution_count": 16,
      "id": "42d53fa3",
      "metadata": {
        "id": "42d53fa3"
      },
      "outputs": [],
      "source": [
        "# Model training\n",
        "start_time = time.time()\n",
        "clf = LogisticRegression(max_iter=1000)\n",
        "clf.fit(X_train_emb, y_train)\n",
        "training_time_minutes = (time.time() - start_time) / 60"
      ]
    },
    {
      "cell_type": "markdown",
      "id": "bd653fd9",
      "metadata": {
        "id": "bd653fd9"
      },
      "source": [
        "## 4. Evaluation:"
      ]
    },
    {
      "cell_type": "code",
      "execution_count": 17,
      "id": "940879a9",
      "metadata": {
        "id": "940879a9",
        "outputId": "28bb3491-e1d8-48aa-d8bb-c36de56c7377",
        "colab": {
          "base_uri": "https://localhost:8080/"
        }
      },
      "outputs": [
        {
          "output_type": "stream",
          "name": "stdout",
          "text": [
            "Accuracy: 0.9244620114185331\n",
            "              precision    recall  f1-score   support\n",
            "\n",
            "           0       0.93      0.92      0.93      3529\n",
            "           1       0.91      0.93      0.92      3302\n",
            "\n",
            "    accuracy                           0.92      6831\n",
            "   macro avg       0.92      0.92      0.92      6831\n",
            "weighted avg       0.92      0.92      0.92      6831\n",
            "\n"
          ]
        }
      ],
      "source": [
        "# Evaluation\n",
        "y_pred = clf.predict(X_test_emb)\n",
        "\n",
        "train_accuracy = clf.score(X_train_emb, y_train)\n",
        "test_accuracy = accuracy_score(y_test, y_pred)  # Using already calculated y_pred\n",
        "\n",
        "print(\"Accuracy:\", accuracy_score(y_test, y_pred))\n",
        "print(classification_report(y_test, y_pred))"
      ]
    },
    {
      "cell_type": "markdown",
      "id": "5355cc0f",
      "metadata": {
        "id": "5355cc0f"
      },
      "source": [
        "## 5. Confusion Matrix Plot:"
      ]
    },
    {
      "cell_type": "code",
      "execution_count": 18,
      "id": "fa805b7a",
      "metadata": {
        "id": "fa805b7a",
        "outputId": "af50b3d3-ec2f-49fb-f2de-db78d0587985",
        "colab": {
          "base_uri": "https://localhost:8080/",
          "height": 466
        }
      },
      "outputs": [
        {
          "output_type": "execute_result",
          "data": {
            "text/plain": [
              "<sklearn.metrics._plot.confusion_matrix.ConfusionMatrixDisplay at 0x7ce4499a0690>"
            ]
          },
          "metadata": {},
          "execution_count": 18
        },
        {
          "output_type": "display_data",
          "data": {
            "text/plain": [
              "<Figure size 640x480 with 2 Axes>"
            ],
            "image/png": "[encoded data removed]"
          },
          "metadata": {}
        }
      ],
      "source": [
        "# Optional: show confusion matrix\n",
        "ConfusionMatrixDisplay.from_estimator(clf, X_test_emb, y_test, cmap=\"Blues\")"
      ]
    },
    {
      "cell_type": "markdown",
      "source": [
        "## 6. Save Model Eval Metrics:"
      ],
      "metadata": {
        "id": "t5Uupk-tU7P1"
      },
      "id": "t5Uupk-tU7P1"
    },
    {
      "cell_type": "code",
      "source": [
        "# Save results using the model_eval module\n",
        "save_model_results(\n",
        "    model_name=\"Model6a_USE_LR\",\n",
        "    display_name=\"Universal Sentence Encoder + Logistic Regression\",\n",
        "    accuracy=test_accuracy,\n",
        "    training_time_minutes=training_time_minutes,\n",
        "    model_architecture=\"Logistic Regression with Universal Sentence Encoder embeddings (512-dim)\",\n",
        "    preprocessing_type=\"universal_sentence_encoder\",\n",
        "    train_accuracy=train_accuracy,\n",
        "    hyperparameters={\n",
        "        \"embedding_model\": \"universal-sentence-encoder/4\",\n",
        "        \"embedding_dimensions\": 512,\n",
        "        \"C\": clf.C,\n",
        "        \"max_iter\": clf.max_iter,\n",
        "        \"random_state\": 42\n",
        "    },\n",
        "    dataset_info={\n",
        "        \"training_samples\": len(X_train_emb),\n",
        "        \"test_samples\": len(X_test_emb),\n",
        "        \"embedding_dimensions\": X_train_emb.shape[1],\n",
        "        \"embedding_model\": \"TensorFlow Hub Universal Sentence Encoder v4\"\n",
        "    }\n",
        ")\n",
        "\n",
        "print(\"Model results saved successfully!\")\n",
        "print(f\"Model: Universal Sentence Encoder + Logistic Regression\")\n",
        "print(f\"Training Accuracy: {train_accuracy:.4f}\")\n",
        "print(f\"Test Accuracy: {test_accuracy:.4f}\")\n",
        "print(f\"Training Time: {training_time_minutes:.2f} minutes\")\n",
        "print(f\"Embedding Dimensions: {X_train_emb.shape[1]}\")"
      ],
      "metadata": {
        "id": "vsVnzK4hU_Sx",
        "outputId": "898b58a2-ea5c-4147-fb82-68e9c11b5984",
        "colab": {
          "base_uri": "https://localhost:8080/"
        }
      },
      "id": "vsVnzK4hU_Sx",
      "execution_count": 19,
      "outputs": [
        {
          "output_type": "stream",
          "name": "stdout",
          "text": [
            "Results saved to results/Model6a_USE_LR_results.json\n",
            "Model: Universal Sentence Encoder + Logistic Regression\n",
            "Accuracy: 0.9245 (92.45%)\n",
            "Training Time: 0.01 minutes\n",
            "Model results saved successfully!\n",
            "Model: Universal Sentence Encoder + Logistic Regression\n",
            "Training Accuracy: 0.9235\n",
            "Test Accuracy: 0.9245\n",
            "Training Time: 0.01 minutes\n",
            "Embedding Dimensions: 512\n"
          ]
        }
      ]
    }
  ],
  "metadata": {
    "kernelspec": {
      "display_name": "base",
      "language": "python",
      "name": "python3"
    },
    "language_info": {
      "codemirror_mode": {
        "name": "ipython",
        "version": 3
      },
      "file_extension": ".py",
      "mimetype": "text/x-python",
      "name": "python",
      "nbconvert_exporter": "python",
      "pygments_lexer": "ipython3",
      "version": "3.12.3"
    },
    "colab": {
      "provenance": []
    }
  },
  "nbformat": 4,
  "nbformat_minor": 5
}